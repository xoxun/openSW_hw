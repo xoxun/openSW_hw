{
 "cells": [
  {
   "cell_type": "code",
   "execution_count": 1,
   "metadata": {},
   "outputs": [
    {
     "name": "stdout",
     "output_type": "stream",
     "text": [
      "Eigenvalues: [-0.37228132  5.37228132]\n",
      "Eigenvectors: [-0.82456484 -0.41597356], [ 0.56576746 -0.90937671], \n",
      "Determinant: -2.0000000000000004\n",
      "Cross product: [-3  6 -3]\n",
      "Solution: [-1. -4.  3.]\n"
     ]
    }
   ],
   "source": [
    "import numpy as np\n",
    "import pandas as pd\n",
    "\n",
    "def main():\n",
    "    arr = np.array([[1, 2], [3, 4]])\n",
    "    w, v = np.linalg.eig(arr)\n",
    "\n",
    "    print(f'Eigenvalues: {w}')\n",
    "    print(f'Eigenvectors: ', end ='')\n",
    "    for tmp in v:\n",
    "        print(f'{tmp}, ', end = '')\n",
    "    print()\n",
    "\n",
    "    adet = np.linalg.det(arr)\n",
    "    print(f'Determinant: {adet}')\n",
    "\n",
    "    vec1 = np.array([1, 2, 3])\n",
    "    vec2 = np.array([4, 5, 6])\n",
    "\n",
    "    vec = np.cross(vec1, vec2)\n",
    "    print(f'Cross product: {vec}')\n",
    "\n",
    "    A = np.array([[1,2,-2],[2,1,-5],[1,-4,1]])\n",
    "    b = np.array([-15,-21,18])\n",
    "    x = np.linalg.solve(A, b)\n",
    "    print(f'Solution: {x}')\n",
    "\n",
    "if __name__ == \"__main__\":\n",
    "    main()"
   ]
  }
 ],
 "metadata": {
  "kernelspec": {
   "display_name": "Python 3",
   "language": "python",
   "name": "python3"
  },
  "language_info": {
   "codemirror_mode": {
    "name": "ipython",
    "version": 3
   },
   "file_extension": ".py",
   "mimetype": "text/x-python",
   "name": "python",
   "nbconvert_exporter": "python",
   "pygments_lexer": "ipython3",
   "version": "3.11.3"
  },
  "orig_nbformat": 4
 },
 "nbformat": 4,
 "nbformat_minor": 2
}
