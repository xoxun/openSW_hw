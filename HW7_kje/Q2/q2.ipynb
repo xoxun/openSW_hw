{
 "cells": [
  {
   "cell_type": "code",
   "execution_count": 1,
   "metadata": {},
   "outputs": [
    {
     "name": "stdout",
     "output_type": "stream",
     "text": [
      "doc1 =  0.58\n",
      "doc2 =  0.87\n",
      "doc3 =  0.67\n"
     ]
    }
   ],
   "source": [
    "import numpy as np\n",
    "\n",
    "\n",
    "def main():\n",
    "    docs = np.array([[1, 1, 0, 1, 0, 1], [1, 1, 1, 0, 1, 0], [1, 1, 0, 1, 0, 0]])\n",
    "    query = np.array([1, 1, 0, 0, 1, 0])\n",
    "\n",
    "    # 문서와 질의의 내적\n",
    "    dot_product = np.dot(docs, query)\n",
    "\n",
    "    # 문서와 질의의 크기(노름)\n",
    "    docs_norm = np.linalg.norm(docs, axis=1)\n",
    "    query_norm = np.linalg.norm(query)\n",
    "\n",
    "    # 코사인 유사도\n",
    "    cos_similarities = dot_product / (docs_norm * query_norm)\n",
    "\n",
    "    doc1 = round(cos_similarities[0], 2)\n",
    "    doc2 = round(cos_similarities[1], 2)\n",
    "    doc3 = round(cos_similarities[2], 2)\n",
    "\n",
    "    print(\"doc1 = \", doc1)\n",
    "    print(\"doc2 = \", doc2)\n",
    "    print(\"doc3 = \", doc3)\n",
    "\n",
    "\n",
    "if __name__ == \"__main__\":\n",
    "    main()"
   ]
  }
 ],
 "metadata": {
  "kernelspec": {
   "display_name": "Python 3",
   "language": "python",
   "name": "python3"
  },
  "language_info": {
   "codemirror_mode": {
    "name": "ipython",
    "version": 3
   },
   "file_extension": ".py",
   "mimetype": "text/x-python",
   "name": "python",
   "nbconvert_exporter": "python",
   "pygments_lexer": "ipython3",
   "version": "3.11.3"
  },
  "orig_nbformat": 4
 },
 "nbformat": 4,
 "nbformat_minor": 2
}
