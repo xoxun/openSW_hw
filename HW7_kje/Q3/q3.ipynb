{
 "cells": [
  {
   "cell_type": "code",
   "execution_count": 1,
   "metadata": {},
   "outputs": [
    {
     "name": "stdout",
     "output_type": "stream",
     "text": [
      "--unitPrice & Number--\n",
      "        unit price  number\n",
      "store1        1000      25\n",
      "store2         280     120\n",
      "store3         900      30\n",
      "\n",
      "--Add Total Prices--\n",
      "        unit price  number  total price\n",
      "store1        1000      25        25000\n",
      "store2         280     120        33600\n",
      "store3         900      30        27000\n",
      "\n",
      "--Top 2 Total Prices--\n",
      "store2    33600\n",
      "store3    27000\n",
      "Name: total price, dtype: int64\n"
     ]
    }
   ],
   "source": [
    "#Q3\n",
    "import pandas as pd\n",
    "import numpy as np\n",
    "\n",
    "def main():\n",
    "    data = [[1000,25],[280,120],[900,30]]\n",
    "\n",
    "    #unit price와 number로 이루어진 dataframe\n",
    "    print('--unitPrice & Number--')\n",
    "    df1 = pd.DataFrame(data, index=['store1','store2','store3'], columns=['unit price','number'])\n",
    "    print(df1)\n",
    "\n",
    "    print('\\n--Add Total Prices--')\n",
    "    df1['total price'] = df1['unit price'] * df1['number']\n",
    "    print(df1)\n",
    "\n",
    "    print('\\n--Top 2 Total Prices--')\n",
    "    df2=df1.sort_values(by=['total price'],ascending=False)\n",
    "    print(df2['total price'][:2])\n",
    "    #print(df2)\n",
    "\n",
    "\n",
    "if __name__ == \"__main__\":\n",
    "    main()\n"
   ]
  },
  {
   "attachments": {},
   "cell_type": "markdown",
   "metadata": {},
   "source": []
  }
 ],
 "metadata": {
  "kernelspec": {
   "display_name": "Python 3",
   "language": "python",
   "name": "python3"
  },
  "language_info": {
   "codemirror_mode": {
    "name": "ipython",
    "version": 3
   },
   "file_extension": ".py",
   "mimetype": "text/x-python",
   "name": "python",
   "nbconvert_exporter": "python",
   "pygments_lexer": "ipython3",
   "version": "3.11.3"
  },
  "orig_nbformat": 4
 },
 "nbformat": 4,
 "nbformat_minor": 2
}
