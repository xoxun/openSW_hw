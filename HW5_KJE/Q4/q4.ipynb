{
 "cells": [
  {
   "cell_type": "code",
   "execution_count": 2,
   "metadata": {},
   "outputs": [
    {
     "name": "stdout",
     "output_type": "stream",
     "text": [
      "*** Subway Report for Seoul on March 2023 ***\n",
      "line 1:\n",
      "Busiest Station: 서울역 (3084227)\n",
      "Least used Station: 동묘앞 (658566)\n",
      "line 2:\n",
      "Busiest Station: 강남 (4690366)\n",
      "Least used Station: 도림천 (80084)\n",
      "line 3:\n",
      "Busiest Station: 고속터미널 (2886887)\n",
      "Least used Station: 충무로 (48)\n",
      "line 4:\n",
      "Busiest Station: 혜화 (2286709)\n",
      "Least used Station: 남태령 (79916)\n"
     ]
    }
   ],
   "source": [
    "import csv\n",
    "\n",
    "def main():\n",
    "    f = open('q4.csv', 'r', encoding='cp949')\n",
    "    data = csv.reader(f)\n",
    "    header = next(data)\n",
    "\n",
    "    lines = [\"1호선\", \"2호선\", \"3호선\", \"4호선\"]\n",
    "    bsn = ['', '', '', '']\n",
    "    lsn = ['', '', '', '']\n",
    "    bs = [-0x7FFFFFFFFFFFFFFF, -0x7FFFFFFFFFFFFFFF, -0x7FFFFFFFFFFFFFFF, -0x7FFFFFFFFFFFFFFF]\n",
    "    ls = [0x7FFFFFFFFFFFFFFF, 0x7FFFFFFFFFFFFFFF, 0x7FFFFFFFFFFFFFFF, 0x7FFFFFFFFFFFFFFF]\n",
    "\n",
    "    for row in data:\n",
    "        flag = False\n",
    "        flag2 = False\n",
    "        for scan in row:\n",
    "            if scan == '':\n",
    "                flag = True\n",
    "        for line in lines:\n",
    "           if line == row[1]:\n",
    "               flag2 = True\n",
    "        if flag2 == False:\n",
    "            flag = True\n",
    "\n",
    "        row[4] = int(row[4])\n",
    "        row[5] = int(row[5])\n",
    "\n",
    "        if flag == False:\n",
    "            tmp = int(row[1].replace('호선', ''))-1\n",
    "            if row[4]+row[5] > bs[tmp]:\n",
    "                bs[tmp] = row[4]+row[5]\n",
    "                bsn[tmp] = row[3]\n",
    "            if row[4]+row[5] < ls[tmp]:\n",
    "                ls[tmp] = row[4]+row[5]\n",
    "                lsn[tmp] = row[3]\n",
    "\n",
    "    print('*** Subway Report for Seoul on March 2023 ***')\n",
    "    for i in range(4):\n",
    "        print(f'line {i+1}:')\n",
    "        print(f'Busiest Station: {bsn[i]} ({bs[i]})')\n",
    "        print(f'Least used Station: {lsn[i]} ({ls[i]})')\n",
    "\n",
    "\n",
    "    f.close()\n",
    "\n",
    "if __name__ ==\"__main__\":\n",
    "    main()\n"
   ]
  }
 ],
 "metadata": {
  "kernelspec": {
   "display_name": "Python 3",
   "language": "python",
   "name": "python3"
  },
  "language_info": {
   "codemirror_mode": {
    "name": "ipython",
    "version": 3
   },
   "file_extension": ".py",
   "mimetype": "text/x-python",
   "name": "python",
   "nbconvert_exporter": "python",
   "pygments_lexer": "ipython3",
   "version": "3.11.3"
  },
  "orig_nbformat": 4
 },
 "nbformat": 4,
 "nbformat_minor": 2
}
