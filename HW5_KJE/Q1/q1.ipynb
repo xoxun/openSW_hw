{
 "cells": [
  {
   "cell_type": "code",
   "execution_count": 1,
   "metadata": {},
   "outputs": [
    {
     "name": "stdout",
     "output_type": "stream",
     "text": [
      "*** Annual Temperature Report for Seoul in 2022 ***\n",
      "Average Temperature 13.26 Celsius\n",
      "Average Minimum Temperature: 9.21 Celsius\n",
      "Average Maximum Temperature: 18.05 Celsius\n"
     ]
    }
   ],
   "source": [
    "import csv\n",
    "def main():\n",
    "    f = open('2022_Seoul_Temp.csv', 'r', encoding='cp949')\n",
    "    data = csv.reader(f, delimiter=',')\n",
    "    for i in range(7):\n",
    "        i +=1\n",
    "        header = next(data)\n",
    "\n",
    "    full_date = 0.0\n",
    "    sum_avg_temp = 0.0\n",
    "    sum_min_temp = 0.0\n",
    "    sum_max_temp = 0.0\n",
    "\n",
    "    avg_avg_temp= 0.0\n",
    "    avg_min_temp= 0.0\n",
    "    avg_max_temp= 0.0\n",
    "\n",
    "    for row in data:\n",
    "        if row[-1] == '' or row[-2] == '' or row[-3] == '':\n",
    "            continue\n",
    "        else:\n",
    "            row[-1] = float(row[-1])\n",
    "            row[-2] = float(row[-2])\n",
    "            row[-3] = float(row[-3])\n",
    "            full_date += 1\n",
    "            sum_avg_temp += row[-3]\n",
    "            sum_min_temp += row[-2]\n",
    "            sum_max_temp += row[-1]\n",
    "\n",
    "    avg_avg_temp = sum_avg_temp / full_date\n",
    "    avg_min_temp = sum_min_temp / full_date\n",
    "    avg_max_temp = sum_max_temp / full_date\n",
    "\n",
    "    f.close()\n",
    "\n",
    "    print('*** Annual Temperature Report for Seoul in 2022 ***')\n",
    "    print(f'Average Temperature {round(avg_avg_temp, 2)} Celsius')\n",
    "    print(f'Average Minimum Temperature: {round(avg_min_temp, 2)} Celsius')\n",
    "    print(f'Average Maximum Temperature: {round(avg_max_temp, 2)} Celsius')\n",
    "\n",
    "if __name__ ==\"__main__\":\n",
    "    main()"
   ]
  }
 ],
 "metadata": {
  "kernelspec": {
   "display_name": "Python 3",
   "language": "python",
   "name": "python3"
  },
  "language_info": {
   "codemirror_mode": {
    "name": "ipython",
    "version": 3
   },
   "file_extension": ".py",
   "mimetype": "text/x-python",
   "name": "python",
   "nbconvert_exporter": "python",
   "pygments_lexer": "ipython3",
   "version": "3.11.3"
  },
  "orig_nbformat": 4
 },
 "nbformat": 4,
 "nbformat_minor": 2
}
