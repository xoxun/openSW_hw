{
 "cells": [
  {
   "cell_type": "code",
   "execution_count": 1,
   "metadata": {},
   "outputs": [
    {
     "name": "stdout",
     "output_type": "stream",
     "text": [
      "*** Annual Temperature Report for Seoul in 2022 ***\n",
      "Day with the Largest Temperature Variation: 2022-11-29\n",
      "Maximum Temperature Difference: 16.6 Celsius\n",
      "Day with the Smallest Temperature Variation: 2022-06-29\n",
      "Minimum Temperature Difference: 1.7 Celsius\n"
     ]
    }
   ],
   "source": [
    "import csv\n",
    "def main():\n",
    "    f = open('2022_Seoul_Temp.csv', 'r', encoding='cp949')\n",
    "    data = csv.reader(f, delimiter=',')\n",
    "    for i in range(7):\n",
    "        i +=1\n",
    "        header = next(data)\n",
    "\n",
    "    max_diff= -999\n",
    "    min_diff= 999\n",
    "    max_date = ''\n",
    "    min_date = ''\n",
    "\n",
    "    for row in data:\n",
    "        if row[-1] == '' or row[-2] == '' or row[-3] == '':\n",
    "            continue\n",
    "        else:\n",
    "            row[-1] = float(row[-1])\n",
    "            row[-2] = float(row[-2])\n",
    "\n",
    "            diff = row[-1] - row[-2]\n",
    "\n",
    "            if max_diff < diff:\n",
    "                max_date = row[0]\n",
    "                max_diff = diff\n",
    "            if min_diff > diff:\n",
    "                min_date = row[0]\n",
    "                min_diff = diff\n",
    "    \n",
    "        \n",
    "    f.close()\n",
    "\n",
    "    print('*** Annual Temperature Report for Seoul in 2022 ***')\n",
    "    print(f'Day with the Largest Temperature Variation: {max_date}')\n",
    "    print(f'Maximum Temperature Difference: {round(max_diff, 2)} Celsius')\n",
    "    print(f'Day with the Smallest Temperature Variation: {min_date}')\n",
    "    print(f'Minimum Temperature Difference: {round(min_diff, 2)} Celsius')\n",
    "\n",
    "if __name__ ==\"__main__\":\n",
    "    main()"
   ]
  }
 ],
 "metadata": {
  "kernelspec": {
   "display_name": "Python 3",
   "language": "python",
   "name": "python3"
  },
  "language_info": {
   "codemirror_mode": {
    "name": "ipython",
    "version": 3
   },
   "file_extension": ".py",
   "mimetype": "text/x-python",
   "name": "python",
   "nbconvert_exporter": "python",
   "pygments_lexer": "ipython3",
   "version": "3.11.3"
  },
  "orig_nbformat": 4
 },
 "nbformat": 4,
 "nbformat_minor": 2
}
