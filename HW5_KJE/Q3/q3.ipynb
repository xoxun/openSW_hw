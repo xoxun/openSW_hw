{
 "cells": [
  {
   "cell_type": "code",
   "execution_count": 3,
   "metadata": {},
   "outputs": [
    {
     "name": "stdout",
     "output_type": "stream",
     "text": [
      "*** Subway Report for Seoul on March 2023 ***\n",
      "1st Busiest Line: Line2, 85620512\n",
      "2nd Busiest Line: Line5, 39671990\n",
      "1st Least used Line: Line8, 11863928\n",
      "2nd Least used Line: Line1, 14705833\n"
     ]
    }
   ],
   "source": [
    "import csv\n",
    "f = open('202303_Seoul_Subway.csv', 'r', encoding='cp949')\n",
    "data = csv.reader(f)\n",
    "header = next(data)\n",
    "\n",
    "lines = [\"1호선\", \"2호선\", \"3호선\", \"4호선\", \"5호선\", \"6호선\", \"7호선\", \"8호선\", \"9호선\"]\n",
    "lines_data = {\"1호선\":0, \"2호선\":0, \"3호선\":0, \"4호선\":0, \"5호선\":0, \"6호선\":0, \"7호선\":0, \"8호선\":0, \"9호선\":0}\n",
    "max_line1 = 0\n",
    "max_line2 = 0\n",
    "min_line1 = 0\n",
    "min_line1 = 0\n",
    "\n",
    "for row in data:\n",
    "    flag = False\n",
    "    flag2 = False\n",
    "    for scan in row:\n",
    "        if scan == '':\n",
    "            flag = True\n",
    "    for line in lines:\n",
    "        if line == row[1]:\n",
    "            flag2 = True\n",
    "    if flag2 == False:\n",
    "        flag = True\n",
    "\n",
    "    row[4] = int(row[4])\n",
    "    row[5] = int(row[5])\n",
    "\n",
    "    if flag == False:\n",
    "        lines_data[row[1]] += row[4]+row[5]\n",
    "\n",
    "s_line_data = sorted(lines_data.items(), key=lambda x:x[1], reverse=True)\n",
    "#print(s_line_data)\n",
    "\n",
    "print('*** Subway Report for Seoul on March 2023 ***')\n",
    "a = s_line_data[0][0].replace('호선', '')\n",
    "print(f'1st Busiest Line: Line{a}, {s_line_data[0][1]}')\n",
    "a = s_line_data[1][0].replace('호선', '')\n",
    "print(f'2nd Busiest Line: Line{a}, {s_line_data[1][1]}')\n",
    "a = s_line_data[-1][0].replace('호선', '')\n",
    "print(f'1st Least used Line: Line{a}, {s_line_data[-1][1]}')\n",
    "a = s_line_data[-2][0].replace('호선', '')\n",
    "print(f'2nd Least used Line: Line{a}, {s_line_data[-2][1]}')\n",
    "\n",
    "f.close()"
   ]
  }
 ],
 "metadata": {
  "kernelspec": {
   "display_name": "Python 3",
   "language": "python",
   "name": "python3"
  },
  "language_info": {
   "codemirror_mode": {
    "name": "ipython",
    "version": 3
   },
   "file_extension": ".py",
   "mimetype": "text/x-python",
   "name": "python",
   "nbconvert_exporter": "python",
   "pygments_lexer": "ipython3",
   "version": "3.11.3"
  },
  "orig_nbformat": 4
 },
 "nbformat": 4,
 "nbformat_minor": 2
}
