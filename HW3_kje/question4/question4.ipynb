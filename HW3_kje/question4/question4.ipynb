{
 "cells": [
  {
   "cell_type": "code",
   "execution_count": 2,
   "metadata": {},
   "outputs": [
    {
     "name": "stdout",
     "output_type": "stream",
     "text": [
      "The factorial of 0 is 1\n",
      "The factorial of 2 is 2\n",
      "The factorial of 4 is 24\n",
      "The factorial of 6 is 720\n",
      "The factorial of 8 is 40320\n",
      "The factorial of 10 is 3628800\n",
      "The factorial of 12 is 479001600\n",
      "The factorial of 14 is 87178291200\n"
     ]
    }
   ],
   "source": [
    "import math\n",
    "\n",
    "def main():\n",
    "    for i in range(15):\n",
    "        if (i % 2 == 0):\n",
    "            print(f\"The factorial of {i} is {math.factorial(i)}\")\n",
    "\n",
    "if __name__ == \"__main__\":\n",
    "    main()"
   ]
  }
 ],
 "metadata": {
  "kernelspec": {
   "display_name": "Python 3",
   "language": "python",
   "name": "python3"
  },
  "language_info": {
   "codemirror_mode": {
    "name": "ipython",
    "version": 3
   },
   "file_extension": ".py",
   "mimetype": "text/x-python",
   "name": "python",
   "nbconvert_exporter": "python",
   "pygments_lexer": "ipython3",
   "version": "3.11.2"
  },
  "orig_nbformat": 4
 },
 "nbformat": 4,
 "nbformat_minor": 2
}
